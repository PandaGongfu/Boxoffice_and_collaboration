{
 "cells": [
  {
   "cell_type": "code",
   "execution_count": 1,
   "metadata": {
    "collapsed": true
   },
   "outputs": [],
   "source": [
    "from sklearn import cross_validation, datasets\n",
    "import numpy as np\n",
    "import pandas as pd\n",
    "import matplotlib.pyplot as plt\n",
    "import statsmodels.api as sm\n",
    "import math\n",
    "%matplotlib inline"
   ]
  },
  {
   "cell_type": "code",
   "execution_count": 2,
   "metadata": {
    "collapsed": true
   },
   "outputs": [],
   "source": [
    "def lm_regress( data_df, y ):\n",
    "    X_train, X_test, y_train, y_test = cross_validation.train_test_split(\n",
    "                                            data_df, y, test_size=0)\n",
    "\n",
    "    X_train = sm.add_constant(X_train,has_constant='add')\n",
    "    ols_model = sm.OLS(y_train, X_train).fit()\n",
    "    return ols_model"
   ]
  },
  {
   "cell_type": "code",
   "execution_count": 106,
   "metadata": {
    "collapsed": true
   },
   "outputs": [
    {
     "name": "stdout",
     "output_type": "stream",
     "text": [
      "1199                               5 Days of War\n",
      "571                                     Margaret\n",
      "1090                         Waiting for Forever\n",
      "549                                   Love Ranch\n",
      "1220                                       Agora\n",
      "272                 The Good, the Bad, the Weird\n",
      "998                                  The Tempest\n",
      "468                         The Killer Inside Me\n",
      "555                         Machine Gun Preacher\n",
      "281                                 The Greatest\n",
      "1355                               Brighton Rock\n",
      "801                                     Restless\n",
      "928                           A Sound of Thunder\n",
      "1041                                       Trust\n",
      "670                                Not Fade Away\n",
      "684                                 Oliver Twist\n",
      "1044                                      Twelve\n",
      "599                                   Middle Men\n",
      "729            Perfume - The Story of a Murderer\n",
      "1155                                   The Yards\n",
      "688                                       Ondine\n",
      "1288                                  The Beaver\n",
      "582                          Me and Orson Welles\n",
      "1215                The Adventures of Pluto Nash\n",
      "1369                                  By the Sea\n",
      "333                                       Hesher\n",
      "977                                   Swept Away\n",
      "1273    Bad Lieutenant: Port of Call New Orleans\n",
      "104                           The Devil's Double\n",
      "683                                       Oldboy\n",
      "                          ...                   \n",
      "87                Dawn of the Planet of the Apes\n",
      "567                                 Man of Steel\n",
      "2                            Clash of the Titans\n",
      "1115                 Welcome Home Roscoe Jenkins\n",
      "187                                   The Family\n",
      "865                                Secret Window\n",
      "421                             It's Complicated\n",
      "809                                        Rio 2\n",
      "917                                   The Smurfs\n",
      "383                                     I, Robot\n",
      "362                     How to Train Your Dragon\n",
      "533                        Live Free or Die Hard\n",
      "345                                         Home\n",
      "456                              Just Go With It\n",
      "596                                  The Mexican\n",
      "1180                                      2 Guns\n",
      "880                             Shanghai Knights\n",
      "790                                   Red Dragon\n",
      "30                                Country Strong\n",
      "650                              Never Back Down\n",
      "65                     Christmas with the Kranks\n",
      "351                            Horrible Bosses 2\n",
      "150                                Eat Pray Love\n",
      "302                                        Hanna\n",
      "749                                  Please Give\n",
      "1193                          30 Minutes or Less\n",
      "1347                                       Brave\n",
      "798                                Resident Evil\n",
      "612           Mission: Impossible - Rogue Nation\n",
      "5                                         Closer\n",
      "Name: title, dtype: object\n"
     ]
    },
    {
     "data": {
      "text/html": [
       "<table class=\"simpletable\">\n",
       "<caption>OLS Regression Results</caption>\n",
       "<tr>\n",
       "  <th>Dep. Variable:</th>           <td>ROI</td>       <th>  R-squared:         </th> <td>   0.037</td>\n",
       "</tr>\n",
       "<tr>\n",
       "  <th>Model:</th>                   <td>OLS</td>       <th>  Adj. R-squared:    </th> <td>   0.030</td>\n",
       "</tr>\n",
       "<tr>\n",
       "  <th>Method:</th>             <td>Least Squares</td>  <th>  F-statistic:       </th> <td>   5.071</td>\n",
       "</tr>\n",
       "<tr>\n",
       "  <th>Date:</th>             <td>Thu, 06 Oct 2016</td> <th>  Prob (F-statistic):</th> <td>0.000143</td>\n",
       "</tr>\n",
       "<tr>\n",
       "  <th>Time:</th>                 <td>14:26:44</td>     <th>  Log-Likelihood:    </th> <td> -219.37</td>\n",
       "</tr>\n",
       "<tr>\n",
       "  <th>No. Observations:</th>      <td>   664</td>      <th>  AIC:               </th> <td>   450.7</td>\n",
       "</tr>\n",
       "<tr>\n",
       "  <th>Df Residuals:</th>          <td>   658</td>      <th>  BIC:               </th> <td>   477.7</td>\n",
       "</tr>\n",
       "<tr>\n",
       "  <th>Df Model:</th>              <td>     5</td>      <th>                     </th>     <td> </td>   \n",
       "</tr>\n",
       "<tr>\n",
       "  <th>Covariance Type:</th>      <td>nonrobust</td>    <th>                     </th>     <td> </td>   \n",
       "</tr>\n",
       "</table>\n",
       "<table class=\"simpletable\">\n",
       "<tr>\n",
       "     <td></td>        <th>coef</th>     <th>std err</th>      <th>t</th>      <th>P>|t|</th> <th>[95.0% Conf. Int.]</th> \n",
       "</tr>\n",
       "<tr>\n",
       "  <th>const</th>   <td>   -0.0536</td> <td>    0.022</td> <td>   -2.440</td> <td> 0.015</td> <td>   -0.097    -0.010</td>\n",
       "</tr>\n",
       "<tr>\n",
       "  <th>a_star</th>  <td>    0.0261</td> <td>    0.015</td> <td>    1.796</td> <td> 0.073</td> <td>   -0.002     0.055</td>\n",
       "</tr>\n",
       "<tr>\n",
       "  <th>d_score</th> <td> 7.053e-06</td> <td> 4.09e-05</td> <td>    0.172</td> <td> 0.863</td> <td>-7.33e-05  8.74e-05</td>\n",
       "</tr>\n",
       "<tr>\n",
       "  <th>da_coop</th> <td>    0.0827</td> <td>    0.040</td> <td>    2.046</td> <td> 0.041</td> <td>    0.003     0.162</td>\n",
       "</tr>\n",
       "<tr>\n",
       "  <th>dp_coop</th> <td>    0.0092</td> <td>    0.019</td> <td>    0.500</td> <td> 0.617</td> <td>   -0.027     0.046</td>\n",
       "</tr>\n",
       "<tr>\n",
       "  <th>pw_coop</th> <td>    0.0586</td> <td>    0.024</td> <td>    2.411</td> <td> 0.016</td> <td>    0.011     0.106</td>\n",
       "</tr>\n",
       "</table>\n",
       "<table class=\"simpletable\">\n",
       "<tr>\n",
       "  <th>Omnibus:</th>       <td>129.173</td> <th>  Durbin-Watson:     </th> <td>   2.001</td>\n",
       "</tr>\n",
       "<tr>\n",
       "  <th>Prob(Omnibus):</th> <td> 0.000</td>  <th>  Jarque-Bera (JB):  </th> <td> 367.039</td>\n",
       "</tr>\n",
       "<tr>\n",
       "  <th>Skew:</th>          <td>-0.956</td>  <th>  Prob(JB):          </th> <td>1.99e-80</td>\n",
       "</tr>\n",
       "<tr>\n",
       "  <th>Kurtosis:</th>      <td> 6.100</td>  <th>  Cond. No.          </th> <td>1.59e+03</td>\n",
       "</tr>\n",
       "</table>"
      ],
      "text/plain": [
       "<class 'statsmodels.iolib.summary.Summary'>\n",
       "\"\"\"\n",
       "                            OLS Regression Results                            \n",
       "==============================================================================\n",
       "Dep. Variable:                    ROI   R-squared:                       0.037\n",
       "Model:                            OLS   Adj. R-squared:                  0.030\n",
       "Method:                 Least Squares   F-statistic:                     5.071\n",
       "Date:                Thu, 06 Oct 2016   Prob (F-statistic):           0.000143\n",
       "Time:                        14:26:44   Log-Likelihood:                -219.37\n",
       "No. Observations:                 664   AIC:                             450.7\n",
       "Df Residuals:                     658   BIC:                             477.7\n",
       "Df Model:                           5                                         \n",
       "Covariance Type:            nonrobust                                         \n",
       "==============================================================================\n",
       "                 coef    std err          t      P>|t|      [95.0% Conf. Int.]\n",
       "------------------------------------------------------------------------------\n",
       "const         -0.0536      0.022     -2.440      0.015        -0.097    -0.010\n",
       "a_star         0.0261      0.015      1.796      0.073        -0.002     0.055\n",
       "d_score     7.053e-06   4.09e-05      0.172      0.863     -7.33e-05  8.74e-05\n",
       "da_coop        0.0827      0.040      2.046      0.041         0.003     0.162\n",
       "dp_coop        0.0092      0.019      0.500      0.617        -0.027     0.046\n",
       "pw_coop        0.0586      0.024      2.411      0.016         0.011     0.106\n",
       "==============================================================================\n",
       "Omnibus:                      129.173   Durbin-Watson:                   2.001\n",
       "Prob(Omnibus):                  0.000   Jarque-Bera (JB):              367.039\n",
       "Skew:                          -0.956   Prob(JB):                     1.99e-80\n",
       "Kurtosis:                       6.100   Cond. No.                     1.59e+03\n",
       "==============================================================================\n",
       "\n",
       "Warnings:\n",
       "[1] Standard Errors assume that the covariance matrix of the errors is correctly specified.\n",
       "[2] The condition number is large, 1.59e+03. This might indicate that there are\n",
       "strong multicollinearity or other numerical problems.\n",
       "\"\"\""
      ]
     },
     "execution_count": 106,
     "metadata": {},
     "output_type": "execute_result"
    }
   ],
   "source": [
    "mojo_final = pd.read_csv(\"mojo_final.csv\", index_col=0)\n",
    "scores_df = pd.read_csv(\"scores.csv\", index_col=0)\n",
    "scores_df.drop('a_score', inplace=True, axis=1)\n",
    "\n",
    "\n",
    "key_genres = ['Action', 'Adventure', 'Animation', 'Comedy', 'Drama', 'Horror', 'Thriller',\n",
    "              'Crime', 'Fantasy', 'Romance', 'Sci-Fi']\n",
    "cols = ['title', 'budget', 'Gross', 'rel_date', 'ROI']\n",
    "# cols += key_genres\n",
    "\n",
    "\n",
    "data_df = pd.merge(mojo_final[cols], scores_df, on='title')\n",
    "\n",
    "data_df['ROI'] = data_df.apply(lambda x: math.log10(x.Gross/x.budget), axis=1)\n",
    "\n",
    "data_df = data_df[data_df['budget']>5e7]\n",
    "\n",
    "y=data_df['ROI']\n",
    "\n",
    "drop_cols = ['title', 'Gross', 'rel_date', 'ROI', 'budget']\n",
    "data_df.drop(drop_cols, axis=1, inplace=True)\n",
    "data_df.drop(['a_exp', 'd_exp'], axis=1, inplace=True)\n",
    "# data_df.drop(key_genres, axis=1, inplace=True)\n",
    "\n",
    "ols_model = lm_regress(data_df, y)\n",
    "ols_model.summary()"
   ]
  },
  {
   "cell_type": "code",
   "execution_count": null,
   "metadata": {
    "collapsed": true
   },
   "outputs": [],
   "source": []
  },
  {
   "cell_type": "code",
   "execution_count": 73,
   "metadata": {
    "collapsed": true
   },
   "outputs": [],
   "source": [
    "from sklearn.ensemble import RandomForestRegressor\n",
    "import numpy as np\n",
    "from sklearn import cross_validation"
   ]
  },
  {
   "cell_type": "code",
   "execution_count": 85,
   "metadata": {
    "collapsed": true
   },
   "outputs": [],
   "source": [
    "from sklearn import linear_model\n",
    "from sklearn import grid_search\n",
    "\n",
    "def rf_grid(df, y):\n",
    "    X_train, X_test, y_train, y_test = cross_validation.train_test_split(\n",
    "                                            df, y, test_size=0.1)\n",
    "    rf = RandomForestRegressor()\n",
    "\n",
    "    parameters ={ \"max_depth\": [2,3,4,5,None],\n",
    "                  \"max_features\": list(range(1, 5)),\n",
    "                  \"min_samples_split\": list(range(1, 5))}\n",
    "\n",
    "    grid_searcher = grid_search.GridSearchCV(rf, parameters)\n",
    "    grid_searcher.fit(X_train, y_train)\n",
    "    print('best_param: ', grid_searcher.best_params_)\n",
    "    best_model = grid_searcher.best_estimator_\n",
    "    print('best_score: ', best_model.score(X_test,y_test))\n",
    "    sorted_features = sorted(zip(data_df.columns, best_model.feature_importances_), key=lambda tup: abs(tup[1]), reverse=True)\n",
    "    print('feature importance:\\n')\n",
    "    for feature in sorted_features:\n",
    "        print(feature)"
   ]
  },
  {
   "cell_type": "code",
   "execution_count": 86,
   "metadata": {
    "collapsed": false
   },
   "outputs": [
    {
     "name": "stdout",
     "output_type": "stream",
     "text": [
      "best_param:  {'max_depth': 3, 'min_samples_split': 1, 'max_features': 1}\n",
      "best_score:  0.0591816849329\n",
      "feature importance:\n",
      "\n",
      "('da_coop', 0.28938887366995913)\n",
      "('d_score', 0.27013373389461554)\n",
      "('pw_coop', 0.2088108418441533)\n",
      "('dp_coop', 0.12185005393173068)\n",
      "('a_star', 0.10981649665954134)\n"
     ]
    }
   ],
   "source": [
    "rf_grid(data_df, y)"
   ]
  }
 ],
 "metadata": {
  "kernelspec": {
   "display_name": "Python [Root]",
   "language": "python",
   "name": "Python [Root]"
  },
  "language_info": {
   "codemirror_mode": {
    "name": "ipython",
    "version": 3
   },
   "file_extension": ".py",
   "mimetype": "text/x-python",
   "name": "python",
   "nbconvert_exporter": "python",
   "pygments_lexer": "ipython3",
   "version": "3.5.2"
  }
 },
 "nbformat": 4,
 "nbformat_minor": 0
}
