{
 "cells": [
  {
   "cell_type": "code",
   "execution_count": 20,
   "metadata": {
    "collapsed": false
   },
   "outputs": [],
   "source": [
    "from treeinterpreter import treeinterpreter as ti\n",
    "from sklearn.tree import DecisionTreeRegressor\n",
    "from sklearn.ensemble import RandomForestRegressor\n",
    "import numpy as np\n",
    "from sklearn import cross_validation, datasets\n",
    "from sklearn.datasets import load_boston\n",
    "boston = load_boston()\n",
    "rf = RandomForestRegressor()\n",
    "# rf.fit(boston.data[:300], boston.target[:300])"
   ]
  },
  {
   "cell_type": "code",
   "execution_count": 16,
   "metadata": {
    "collapsed": false
   },
   "outputs": [
    {
     "data": {
      "text/plain": [
       "0.98290642232689385"
      ]
     },
     "execution_count": 16,
     "metadata": {},
     "output_type": "execute_result"
    }
   ],
   "source": [
    "# rf.score(boston.data[:300], boston.target[:300])"
   ]
  },
  {
   "cell_type": "code",
   "execution_count": 38,
   "metadata": {
    "collapsed": false
   },
   "outputs": [
    {
     "data": {
      "text/plain": [
       "0.82284759621964687"
      ]
     },
     "execution_count": 38,
     "metadata": {},
     "output_type": "execute_result"
    }
   ],
   "source": [
    "X = boston.data\n",
    "y = boston.target\n",
    "X_train, X_test, y_train, y_test = cross_validation.train_test_split(\n",
    "                                        X, y, test_size=0.2)\n",
    "\n",
    "rf = RandomForestRegressor(max_depth=3)\n",
    "rf.fit(X_train, y_train)\n",
    "rf.score(X_test, y_test)"
   ]
  },
  {
   "cell_type": "code",
   "execution_count": 42,
   "metadata": {
    "collapsed": false
   },
   "outputs": [
    {
     "data": {
      "text/plain": [
       "{'max_depth': None, 'max_features': 7, 'min_samples_split': 4}"
      ]
     },
     "execution_count": 42,
     "metadata": {},
     "output_type": "execute_result"
    }
   ],
   "source": [
    "from sklearn import linear_model\n",
    "from sklearn import grid_search\n",
    "from scipy.stats import randint as sp_randint\n",
    "\n",
    "rf = RandomForestRegressor()\n",
    "\n",
    "parameters ={ \"max_depth\": [3, None],\n",
    "              \"max_features\": list(range(1, 11)),\n",
    "              \"min_samples_split\": list(range(1, 11))}\n",
    "\n",
    "grid_searcher = grid_search.GridSearchCV(rf, parameters)\n",
    "grid_searcher.fit(X, y)\n",
    "grid_searcher.best_params_"
   ]
  },
  {
   "cell_type": "code",
   "execution_count": 43,
   "metadata": {
    "collapsed": false
   },
   "outputs": [
    {
     "data": {
      "text/plain": [
       "0.96825926414906827"
      ]
     },
     "execution_count": 43,
     "metadata": {},
     "output_type": "execute_result"
    }
   ],
   "source": [
    "best_model = grid_searcher.best_estimator_\n",
    "best_model.score(X_test,y_test)"
   ]
  },
  {
   "cell_type": "code",
   "execution_count": 47,
   "metadata": {
    "collapsed": false
   },
   "outputs": [
    {
     "name": "stdout",
     "output_type": "stream",
     "text": [
      "('RM', 0.42066618961774777)\n",
      "('LSTAT', 0.3128982403868017)\n",
      "('CRIM', 0.078240550803383505)\n",
      "('DIS', 0.057979311042497969)\n",
      "('NOX', 0.039619693080493415)\n",
      "('AGE', 0.025841021787971728)\n",
      "('PTRATIO', 0.02552600626735383)\n",
      "('TAX', 0.013528466225302221)\n",
      "('B', 0.011454273860520614)\n",
      "('INDUS', 0.0067566972161091504)\n",
      "('RAD', 0.0039486461556223701)\n",
      "('CHAS', 0.0019216563380900417)\n",
      "('ZN', 0.0016192472181056482)\n"
     ]
    }
   ],
   "source": [
    "best_model.feature_importances_\n",
    "\n",
    "sorted_features = sorted(zip(boston.feature_names, best_model.feature_importances_), key=lambda tup: abs(tup[1]), reverse=True)\n",
    "for feature in sorted_features:\n",
    "    print(feature)"
   ]
  },
  {
   "cell_type": "code",
   "execution_count": null,
   "metadata": {
    "collapsed": false
   },
   "outputs": [],
   "source": []
  },
  {
   "cell_type": "code",
   "execution_count": null,
   "metadata": {
    "collapsed": false
   },
   "outputs": [],
   "source": []
  },
  {
   "cell_type": "code",
   "execution_count": 2,
   "metadata": {
    "collapsed": false
   },
   "outputs": [
    {
     "name": "stdout",
     "output_type": "stream",
     "text": [
      "Instance 0 prediction: [ 31.07]\n",
      "Instance 1 prediction: [ 21.66]\n"
     ]
    },
    {
     "name": "stderr",
     "output_type": "stream",
     "text": [
      "/Users/PandaGongfu/anaconda/lib/python3.5/site-packages/sklearn/utils/validation.py:386: DeprecationWarning: Passing 1d arrays as data is deprecated in 0.17 and willraise ValueError in 0.19. Reshape your data either using X.reshape(-1, 1) if your data has a single feature or X.reshape(1, -1) if it contains a single sample.\n",
      "  DeprecationWarning)\n",
      "/Users/PandaGongfu/anaconda/lib/python3.5/site-packages/sklearn/utils/validation.py:386: DeprecationWarning: Passing 1d arrays as data is deprecated in 0.17 and willraise ValueError in 0.19. Reshape your data either using X.reshape(-1, 1) if your data has a single feature or X.reshape(1, -1) if it contains a single sample.\n",
      "  DeprecationWarning)\n"
     ]
    }
   ],
   "source": [
    "instances = boston.data[[300, 309]]\n",
    "print(\"Instance 0 prediction:\", rf.predict(instances[0]))\n",
    "print(\"Instance 1 prediction:\", rf.predict(instances[1]))"
   ]
  },
  {
   "cell_type": "code",
   "execution_count": 6,
   "metadata": {
    "collapsed": false
   },
   "outputs": [
    {
     "name": "stdout",
     "output_type": "stream",
     "text": [
      "Instance 0\n",
      "Bias (trainset mean) 25.4476\n",
      "Feature contributions:\n",
      "RM 3.55\n",
      "LSTAT 1.41\n",
      "ZN 0.45\n",
      "PTRATIO 0.38\n",
      "B -0.34\n",
      "RAD 0.26\n",
      "TAX -0.19\n",
      "CRIM -0.17\n",
      "NOX 0.12\n",
      "AGE 0.09\n",
      "DIS 0.09\n",
      "INDUS -0.03\n",
      "CHAS 0.0\n",
      "--------------------\n",
      "Instance 1\n",
      "Bias (trainset mean) 25.4476\n",
      "Feature contributions:\n",
      "RM -4.72\n",
      "LSTAT 1.36\n",
      "AGE -0.61\n",
      "CRIM 0.59\n",
      "NOX -0.31\n",
      "RAD 0.29\n",
      "INDUS -0.26\n",
      "PTRATIO 0.13\n",
      "DIS -0.12\n",
      "B -0.08\n",
      "TAX -0.04\n",
      "CHAS -0.02\n",
      "ZN -0.0\n",
      "--------------------\n"
     ]
    }
   ],
   "source": [
    "prediction, biases, contributions = ti.predict(rf, instances)\n",
    "for i in range(len(instances)):\n",
    "    print (\"Instance\", i)\n",
    "    print (\"Bias (trainset mean)\", biases[i])\n",
    "    print (\"Feature contributions:\")\n",
    "    for c, feature in sorted(zip(contributions[i], \n",
    "                                 boston.feature_names), \n",
    "                             key=lambda x: -abs(x[0])):\n",
    "        print(feature, round(c, 2))\n",
    "    print(\"-\"*20)\n",
    "\n"
   ]
  },
  {
   "cell_type": "code",
   "execution_count": 12,
   "metadata": {
    "collapsed": false
   },
   "outputs": [
    {
     "name": "stdout",
     "output_type": "stream",
     "text": [
      "[ 31.07  21.66]\n",
      "[ 31.07  21.66]\n"
     ]
    },
    {
     "data": {
      "text/plain": [
       "100"
      ]
     },
     "execution_count": 12,
     "metadata": {},
     "output_type": "execute_result"
    }
   ],
   "source": [
    "print (prediction)\n",
    "print (biases + np.sum(contributions, axis=1))\n",
    "ds1 = boston.data[300:400]\n",
    "ds2 = boston.data[400:]\n",
    "prediction1, bias1, contributions1 = ti.predict(rf, ds1)\n",
    "prediction2, bias2, contributions2 = ti.predict(rf, ds2)\n"
   ]
  },
  {
   "cell_type": "code",
   "execution_count": 13,
   "metadata": {
    "collapsed": false
   },
   "outputs": [
    {
     "data": {
      "text/plain": [
       "13"
      ]
     },
     "execution_count": 13,
     "metadata": {},
     "output_type": "execute_result"
    }
   ],
   "source": [
    "totalc1 = np.mean(contributions1, axis=0)\n",
    "for c, feature in sorted(zip(totalc1 - totalc2, \n",
    "                             boston.feature_names), reverse=True):\n",
    "    print feature, round(c, 2)"
   ]
  }
 ],
 "metadata": {
  "kernelspec": {
   "display_name": "Python [Root]",
   "language": "python",
   "name": "Python [Root]"
  },
  "language_info": {
   "codemirror_mode": {
    "name": "ipython",
    "version": 3
   },
   "file_extension": ".py",
   "mimetype": "text/x-python",
   "name": "python",
   "nbconvert_exporter": "python",
   "pygments_lexer": "ipython3",
   "version": "3.5.2"
  }
 },
 "nbformat": 4,
 "nbformat_minor": 0
}
